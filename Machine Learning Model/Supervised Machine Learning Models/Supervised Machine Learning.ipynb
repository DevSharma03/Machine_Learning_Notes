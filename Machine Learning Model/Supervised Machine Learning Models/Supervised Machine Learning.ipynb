{
 "cells": [
  {
   "cell_type": "markdown",
   "id": "8627c9d3",
   "metadata": {},
   "source": [
    "# Supervised Machine Learning"
   ]
  },
  {
   "cell_type": "markdown",
   "id": "805bb014",
   "metadata": {},
   "source": [
    "###  What is Supervised Machine Learning?\n",
    "- Supervised Learning is a type of machine learning where the model learns from labeled data. \n",
    "- It means the training data includes input-output pairs where the correct output (label) is already known.\n",
    "-  In simple terms: You supervise the model during training by telling it the correct answers."
   ]
  },
  {
   "cell_type": "markdown",
   "id": "2d3feb2b",
   "metadata": {},
   "source": [
    "### Key Components\n",
    "| Component         | Description                                                      |\n",
    "| ----------------- | ---------------------------------------------------------------- |\n",
    "| **Input (X)**     | Features or independent variables (e.g., hours studied)          |\n",
    "| **Output (y)**    | Label or dependent variable (e.g., exam score)                   |\n",
    "| **Model**         | Algorithm that maps inputs to outputs                            |\n",
    "| **Loss Function** | Measures error between predicted and actual output               |\n",
    "| **Optimizer**     | Updates model parameters to reduce loss (e.g., Gradient Descent) |"
   ]
  },
  {
   "cell_type": "markdown",
   "id": "f227a7a3",
   "metadata": {},
   "source": [
    "### How it Works (Workflow)\n",
    "1. Collect Data (with labels)\n",
    "2. Preprocess Data (clean, normalize, encode)\n",
    "3. Split into Train/Test sets\n",
    "4. Choose a model (e.g., Linear Regression)\n",
    "5. Train the model on training data\n",
    "6. Evaluate on test data\n",
    "7. Tune hyperparameters if needed\n",
    "8. Deploy the model"
   ]
  },
  {
   "cell_type": "markdown",
   "id": "0d39f15e",
   "metadata": {},
   "source": [
    "# Types of Supervised Learning"
   ]
  },
  {
   "cell_type": "markdown",
   "id": "359cd2ce",
   "metadata": {},
   "source": [
    "### 1. 🟢 Regression\n",
    "- Predict continuous values.\n",
    "- Examples: Predict price, temperature, salary.\n",
    "\n",
    "| Algorithm               | Description                |\n",
    "| ----------------------- | -------------------------- |\n",
    "| Linear Regression       | Line of best fit           |\n",
    "| Polynomial Regression   | Curve fit                  |\n",
    "| Decision Tree Regressor | Tree-based predictions     |\n",
    "| Random Forest Regressor | Ensemble of decision trees |\n",
    "\n",
    "\n",
    "\n",
    "### 2. 🔵 Classification\n",
    "- Predict discrete labels or categories.\n",
    "- Examples: Spam/Not Spam, Disease/No Disease\n",
    "\n",
    "| Algorithm                 | Description                         |\n",
    "| ------------------------- | ----------------------------------- |\n",
    "| Logistic Regression       | Binary classification               |\n",
    "| K-Nearest Neighbors (KNN) | Based on proximity                  |\n",
    "| Decision Tree Classifier  | Tree-based logic                    |\n",
    "| Random Forest Classifier  | Ensemble of trees                   |\n",
    "| SVM                       | Separates classes using hyperplanes |\n",
    "| Naive Bayes               | Based on Bayes Theorem              |"
   ]
  },
  {
   "cell_type": "markdown",
   "id": "25366a8b",
   "metadata": {},
   "source": [
    "### 📊 Evaluation Metrics\n",
    "##### For Regression: \n",
    "| Metric   | Description                      |\n",
    "| -------- | -------------------------------- |\n",
    "| MAE      | Mean Absolute Error              |\n",
    "| MSE      | Mean Squared Error               |\n",
    "| RMSE     | Root Mean Squared Error          |\n",
    "| R² Score | How well the model fits the data |\n",
    "\n",
    "##### For Classification: \n",
    "| Metric    | Description                         |\n",
    "| --------- | ----------------------------------- |\n",
    "| Accuracy  | Correct predictions / Total         |\n",
    "| Precision | TP / (TP + FP)                      |\n",
    "| Recall    | TP / (TP + FN)                      |\n",
    "| F1 Score  | Harmonic mean of precision & recall |\n",
    "| ROC-AUC   | Area under the ROC curve            |"
   ]
  }
 ],
 "metadata": {
  "language_info": {
   "name": "python"
  }
 },
 "nbformat": 4,
 "nbformat_minor": 5
}
