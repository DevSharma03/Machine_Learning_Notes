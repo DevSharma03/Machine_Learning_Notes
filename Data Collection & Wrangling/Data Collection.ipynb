{
 "cells": [
  {
   "cell_type": "markdown",
   "id": "56f15ba7",
   "metadata": {},
   "source": [
    "# Data Collection"
   ]
  },
  {
   "cell_type": "markdown",
   "id": "ec30a0d6",
   "metadata": {},
   "source": [
    "### 📦 What is Data Collection? \n",
    "- Data collection is the process of gathering raw information from various sources to be analyzed, modeled, or used for decision-making. It includes acquiring, importing, and storing data in a format ready for wrangling."
   ]
  },
  {
   "cell_type": "markdown",
   "id": "ab32d36a",
   "metadata": {},
   "source": [
    "### 🧷 Types of Data Sources\n",
    "| Type                | Examples                                                |\n",
    "| ------------------- | ------------------------------------------------------- |\n",
    "| **Structured**      | CSV, SQL databases, Excel, JSON                         |\n",
    "| **Semi-structured** | XML, JSON from APIs, logs, NoSQL                        |\n",
    "| **Unstructured**    | Images, PDFs, audio, videos, social media text          |\n",
    "| **Real-time**       | IoT sensors, financial data streams, Kafka, sockets     |\n",
    "| **Big Data**        | Distributed sources like HDFS, AWS S3, cloud data lakes |"
   ]
  },
  {
   "cell_type": "markdown",
   "id": "07a61123",
   "metadata": {},
   "source": [
    "# 🛠️ Methods of Data Collection (in detail)"
   ]
  },
  {
   "cell_type": "markdown",
   "id": "18f1df3e",
   "metadata": {},
   "source": [
    "### 1. 🗃️ From Local Files\n",
    "| File Type | Function                       |\n",
    "| --------- | ------------------------------ |\n",
    "| CSV       | `pd.read_csv(\"file.csv\")`      |\n",
    "| Excel     | `pd.read_excel(\"file.xlsx\")`   |\n",
    "| JSON      | `pd.read_json(\"file.json\")`    |\n",
    "| Text      | `open(\"file.txt\").readlines()` |\n",
    "\n",
    "---\n",
    "\n",
    "### 2. From Databases(SQL/NoSQL)\n",
    "\n",
    "##### a. SQL Databases\n",
    "| Database   | Libraries                              |\n",
    "| ---------- | -------------------------------------- |\n",
    "| MySQL      | `mysql-connector-python`, `SQLAlchemy` |\n",
    "| PostgreSQL | `psycopg2`, `pg8000`                   |\n",
    "| SQLite     | `sqlite3`                              |\n",
    "\n",
    "\n",
    "##### b. NoSQL (MongoDB Example)\n",
    "```\n",
    "from pymongo import MongoClient\n",
    "client = MongoClient(\"mongodb://localhost:27017/\")\n",
    "db = client[\"ecommerce\"]\n",
    "collection = db[\"orders\"]\n",
    "data = list(collection.find())\n",
    "```\n",
    "\n",
    "---\n",
    "### 3. 🌐 From Web APIs\n",
    "- Most APIs return JSON or XML data via HTTP requests.\n",
    "```\n",
    "import requests\n",
    "import pandas as pd\n",
    "\n",
    "url = \"https://api.exchangerate-api.com/v4/latest/USD\"\n",
    "response = requests.get(url)\n",
    "data = response.json()\n",
    "df = pd.DataFrame(data)\n",
    "```\n",
    "---\n",
    "\n",
    "### 4. 🌍 Web Scraping\n",
    "| Tool            | Use Case             |\n",
    "| --------------- | -------------------- |\n",
    "| `BeautifulSoup` | HTML parsing         |\n",
    "| `Selenium`      | Dynamic JS content   |\n",
    "| `Scrapy`        | Large-scale scraping |\n",
    "\n",
    "```\n",
    "from bs4 import BeautifulSoup\n",
    "import requests\n",
    "\n",
    "url = \"https://example.com\"\n",
    "html = requests.get(url).content\n",
    "soup = BeautifulSoup(html, 'html.parser')\n",
    "titles = [tag.text for tag in soup.find_all('h2')]\n",
    "```\n",
    "\n",
    "---\n",
    "\n",
    "### 5. 🛰️ Real-Time Data (Streaming)\n",
    "| Tool       | Description                                |\n",
    "| ---------- | ------------------------------------------ |\n",
    "| Kafka      | Distributed stream platform                |\n",
    "| Spark      | Real-time data processing                  |\n",
    "| MQTT       | Lightweight IoT protocol                   |\n",
    "| WebSockets | Browser/server bidirectional communication |\n",
    "\n",
    "\n",
    "```\n",
    "# Simulated Kafka consumption\n",
    "from kafka import KafkaConsumer\n",
    "consumer = KafkaConsumer('sensor-data', bootstrap_servers='localhost:9092')\n",
    "for message in consumer:\n",
    "    print(message.value)\n",
    "```"
   ]
  }
 ],
 "metadata": {
  "language_info": {
   "name": "python"
  }
 },
 "nbformat": 4,
 "nbformat_minor": 5
}
